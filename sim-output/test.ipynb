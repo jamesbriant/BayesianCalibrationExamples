{
 "cells": [
  {
   "cell_type": "code",
   "execution_count": 4,
   "id": "4e75d58a",
   "metadata": {},
   "outputs": [],
   "source": [
    "import arviz as az\n",
    "import numpy as np\n",
    "import matplotlib.pyplot as plt\n",
    "import gpjax as gpx\n",
    "import jax.numpy as jnp\n",
    "import kohgpjax as kgx\n",
    "import jax\n",
    "from kohgpjax.parameters import ModelParameters\n",
    "\n",
    "from models.sin_a import Model, get_ModelParameterPriorDict\n",
    "import dataloader\n",
    "\n",
    "from plotting import (\n",
    "    plot_f_eta,\n",
    "    plot_f_delta,\n",
    "    plot_f_zeta,\n",
    "    plot_pairwise_samples,\n",
    "    plot_posterior_chains_with_priors,\n",
    "    plot_sim_sample,\n",
    "    # plot_time_vs_sim_output,\n",
    ")\n",
    "\n",
    "from data.true_funcs import (\n",
    "    discrepancy,\n",
    "    eta,\n",
    "    TrueParams,\n",
    "    zeta,\n",
    ")\n",
    "\n",
    "\n",
    "TP = TrueParams()\n",
    "num_calib_params=1"
   ]
  },
  {
   "cell_type": "markdown",
   "id": "29c800af",
   "metadata": {},
   "source": [
    "Load observations and simulation outputs"
   ]
  },
  {
   "cell_type": "code",
   "execution_count": 5,
   "id": "27270c93",
   "metadata": {},
   "outputs": [],
   "source": [
    "kohdataset, tminmax, ycmean = dataloader.load(\n",
    "    sim_file_path_csv=f\"data/sim-a.csv\",\n",
    "    obs_file_path_csv=f\"data/obs-a.csv\",\n",
    "    num_calib_params=num_calib_params,\n",
    ")"
   ]
  },
  {
   "cell_type": "markdown",
   "id": "fbc2347f",
   "metadata": {},
   "source": [
    "Load posterior samples"
   ]
  },
  {
   "cell_type": "code",
   "execution_count": 6,
   "id": "8d67a53d",
   "metadata": {},
   "outputs": [
    {
     "name": "stdout",
     "output_type": "stream",
     "text": [
      "                            mean      sd   hdi_3%  ...  ess_bulk  ess_tail  r_hat\n",
      "delta_lengthscale_x_0     14.886   5.714    5.914  ...      47.0      71.0   1.00\n",
      "delta_precision           25.305  15.890    6.253  ...      72.0      50.0   1.02\n",
      "epsilon_precision        405.296  11.907  384.158  ...      48.0      59.0   1.02\n",
      "eta_lengthscale_theta_0    4.674   0.648    3.587  ...      58.0      78.0   1.05\n",
      "eta_lengthscale_x_0        0.873   0.051    0.773  ...      41.0      58.0   1.04\n",
      "eta_precision              0.595   0.246    0.198  ...      16.0      25.0   1.10\n",
      "theta_0                    0.399   0.006    0.388  ...     111.0      77.0   1.12\n",
      "\n",
      "[7 rows x 9 columns]\n",
      "Posterior means: <xarray.Dataset> Size: 56B\n",
      "Dimensions:                  ()\n",
      "Data variables:\n",
      "    delta_lengthscale_x_0    float64 8B 14.89\n",
      "    delta_precision          float64 8B 25.31\n",
      "    epsilon_precision        float64 8B 405.3\n",
      "    eta_lengthscale_theta_0  float64 8B 4.674\n",
      "    eta_lengthscale_x_0      float64 8B 0.8727\n",
      "    eta_precision            float64 8B 0.5954\n",
      "    theta_0                  float64 8B 0.399\n"
     ]
    }
   ],
   "source": [
    "chains = az.from_netcdf(\"chains/sin-a-W80-N50-Nsim1000.nc\")\n",
    "print(az.summary(chains))\n",
    "\n",
    "# 2.2 Extract the transformed parameters\n",
    "posterior_means = chains.posterior.mean()\n",
    "print(f\"Posterior means: {posterior_means}\")\n"
   ]
  },
  {
   "cell_type": "code",
   "execution_count": 7,
   "id": "67bf51eb",
   "metadata": {},
   "outputs": [
    {
     "name": "stdout",
     "output_type": "stream",
     "text": [
      "(1000, 2)\n",
      "theta_vec: [ 0.39895676 -3.14        1.          1.          0.5       ]\n",
      "(1000, 5)\n",
      "(1000, 7)\n",
      "(1000, 2)\n",
      "Dataset(Number of observations: 3100 - Input dimension: 2)\n"
     ]
    }
   ],
   "source": [
    "x0_pred = np.linspace(0, 4, 1000)\n",
    "x1_pred = np.zeros_like(x0_pred)\n",
    "xpred = np.vstack((x0_pred, x1_pred)).T\n",
    "print(xpred.shape)\n",
    "\n",
    "# 3.2 Get the theta vector and tile for array\n",
    "theta_vec = TP.get_theta().squeeze()  # TODO: Should this be a jnp.array?\n",
    "for i in range(num_calib_params):\n",
    "    theta_vec[i] = posterior_means[f\"theta_{i}\"].values\n",
    "theta_arr = jnp.tile(theta_vec, (xpred.shape[0], 1))\n",
    "print(f\"theta_vec: {theta_vec}\")\n",
    "print(theta_arr.shape)\n",
    "\n",
    "# 3.3 Full x_test array\n",
    "x_test = np.hstack((xpred, theta_arr))\n",
    "print(x_test.shape)\n",
    "\n",
    "# 3.4 extract variables used for GP\n",
    "x_test_GP = x_test[:, [0] + list(range(2, 2 + num_calib_params))]\n",
    "print(x_test_GP.shape)\n",
    "\n",
    "# 3.5 Generate the full dataset\n",
    "dataset = kohdataset.get_dataset(theta_vec[:num_calib_params].reshape(1, -1))\n",
    "print(dataset)"
   ]
  },
  {
   "cell_type": "code",
   "execution_count": 8,
   "id": "a909338b",
   "metadata": {},
   "outputs": [
    {
     "name": "stdout",
     "output_type": "stream",
     "text": [
      "Creating ModelParameterPriorDict for sin-a model...\n",
      "A0: -0.02347600873936904, B0: 1.0205447979783209\n"
     ]
    }
   ],
   "source": [
    "prior_dict = get_ModelParameterPriorDict(tminmax)\n",
    "model_parameters = ModelParameters(prior_dict=prior_dict)\n",
    "\n",
    "# 4.3 Create the model instance\n",
    "model = Model(\n",
    "    model_parameters=model_parameters,\n",
    "    kohdataset=kohdataset,\n",
    ")\n",
    "\n",
    "# 4.4 Get the parameters into the correct format\n",
    "prior_leaves, prior_tree = jax.tree.flatten(prior_dict)\n",
    "# cannot assume jax tree and arviz/xarray ordering is the same\n",
    "GP_params_flat = {p.name: posterior_means[p.name].values for p in prior_leaves}\n",
    "thetas = jnp.array([GP_params_flat[f\"theta_{i}\"] for i in range(num_calib_params)])\n",
    "GP_params = jax.tree.unflatten(prior_tree, GP_params_flat.values())\n",
    "\n",
    "# 4.5 Build the GP posterior\n",
    "GP_posterior = model.GP_posterior(GP_params)\n",
    "# print(f\"GP posterior: {GP_posterior}\")"
   ]
  },
  {
   "cell_type": "code",
   "execution_count": null,
   "id": "8f603bd1",
   "metadata": {},
   "outputs": [
    {
     "name": "stdout",
     "output_type": "stream",
     "text": [
      "Generating predictions...\n"
     ]
    }
   ],
   "source": [
    "# 5 Generating the predictions\n",
    "# 5.1 Predict the eta, zeta, and obs values\n",
    "print(\"Generating predictions...\")\n",
    "eta_pred = GP_posterior.predict_eta(x_test_GP, dataset)\n",
    "zeta_pred = GP_posterior.predict_zeta(x_test_GP, dataset)\n",
    "obs_pred = GP_posterior.predict_obs(x_test_GP, dataset)"
   ]
  },
  {
   "cell_type": "code",
   "execution_count": 11,
   "id": "dbfb17ca",
   "metadata": {},
   "outputs": [],
   "source": [
    "eta_pred_m = eta_pred.mean\n",
    "eta_pred_cov = eta_pred.covariance_matrix\n",
    "\n",
    "zeta_pred_m = zeta_pred.mean\n",
    "zeta_pred_cov = zeta_pred.covariance_matrix\n",
    "\n",
    "obs_pred_m = obs_pred.mean\n",
    "obs_pred_cov = obs_pred.covariance_matrix\n",
    "\n",
    "# 5.2 Model discrepancy\n",
    "delta_gp_m = zeta_pred_m - eta_pred_m\n",
    "delta_gp_cov = zeta_pred_cov + eta_pred_cov"
   ]
  },
  {
   "cell_type": "markdown",
   "id": "4b9760e0",
   "metadata": {},
   "source": [
    "Compare $f_\\eta$, $f_\\zeta$ and $f_{\\zeta+\\epsilon}$"
   ]
  },
  {
   "cell_type": "code",
   "execution_count": 16,
   "id": "01d040f2",
   "metadata": {},
   "outputs": [
    {
     "data": {
      "image/png": "[encoded data removed]",
      "text/plain": [
       "<Figure size 1000x600 with 1 Axes>"
      ]
     },
     "metadata": {},
     "output_type": "display_data"
    }
   ],
   "source": [
    "fig, ax = plt.subplots(1, 1, figsize=(10, 6))\n",
    "# ax.plot(\n",
    "#     x_test_GP[:, 0],\n",
    "#     eta_pred_m,\n",
    "#     label=\"GP posterior mean of $f_\\\\eta$\",\n",
    "#     color=\"blue\",\n",
    "# )\n",
    "ax.fill_between(\n",
    "    x_test_GP[:, 0],\n",
    "    eta_pred_m - 2 * jnp.sqrt(jnp.diag(eta_pred_cov)),\n",
    "    eta_pred_m + 2 * jnp.sqrt(jnp.diag(eta_pred_cov)),\n",
    "    alpha=0.2,\n",
    "    color=\"blue\",\n",
    ")\n",
    "# ax.plot(\n",
    "#     x_test_GP[:, 0],\n",
    "#     zeta_pred_m,\n",
    "#     label=\"GP posterior mean of $f_\\\\zeta$\",\n",
    "#     color=\"orange\",\n",
    "# )\n",
    "# ax.fill_between(\n",
    "#     x_test_GP[:, 0],\n",
    "#     zeta_pred_m - 2 * jnp.sqrt(jnp.diag(zeta_pred_cov)),\n",
    "#     zeta_pred_m + 2 * jnp.sqrt(jnp.diag(zeta_pred_cov)),\n",
    "#     alpha=0.2,\n",
    "#     color=\"orange\",\n",
    "# )\n",
    "# ax.plot(\n",
    "#     x_test_GP[:, 0],\n",
    "#     obs_pred_m,\n",
    "#     label=\"GP posterior mean of $f_{\\\\zeta + \\\\epsilon}$\",\n",
    "#     color=\"green\",\n",
    "#     linestyle=\"--\",\n",
    "# )\n",
    "# ax.fill_between(\n",
    "#     x_test_GP[:, 0],\n",
    "#     obs_pred_m - 2 * jnp.sqrt(jnp.diag(obs_pred_cov)),\n",
    "#     obs_pred_m + 2 * jnp.sqrt(jnp.diag(obs_pred_cov)),\n",
    "#     alpha=0.2,\n",
    "#     color=\"green\",\n",
    "# )\n",
    "plt.show()"
   ]
  }
 ],
 "metadata": {
  "kernelspec": {
   "display_name": "py311gpjax011",
   "language": "python",
   "name": "python3"
  },
  "language_info": {
   "codemirror_mode": {
    "name": "ipython",
    "version": 3
   },
   "file_extension": ".py",
   "mimetype": "text/x-python",
   "name": "python",
   "nbconvert_exporter": "python",
   "pygments_lexer": "ipython3",
   "version": "3.11.12"
  }
 },
 "nbformat": 4,
 "nbformat_minor": 5
}
