{
 "cells": [
  {
   "cell_type": "code",
   "execution_count": 3,
   "metadata": {},
   "outputs": [
    {
     "name": "stderr",
     "output_type": "stream",
     "text": [
      "/Users/jamesbriant/miniforge3/envs/py311-IPython/lib/python3.11/site-packages/tqdm/auto.py:21: TqdmWarning: IProgress not found. Please update jupyter and ipywidgets. See https://ipywidgets.readthedocs.io/en/stable/user_install.html\n",
      "  from .autonotebook import tqdm as notebook_tqdm\n",
      "/Users/jamesbriant/miniforge3/envs/py311-IPython/lib/python3.11/site-packages/cola/backends/backends.py:75: FutureWarning: `torch.utils._pytree._register_pytree_node` is deprecated. Please use `torch.utils._pytree.register_pytree_node` instead.\n",
      "  torch.utils._pytree._register_pytree_node(cls, tree_flatten, tree_unflatten)\n"
     ]
    }
   ],
   "source": [
    "import os\n",
    "\n",
    "from models import toy6d as KOHmodel\n",
    "from data.dataloader import DataLoader\n",
    "# from kohgpjax.mappings import mapRto01, map01toR, mapRto0inf, map0inftoR\n",
    "\n",
    "import numpy as np\n",
    "import matplotlib.pyplot as plt"
   ]
  },
  {
   "cell_type": "code",
   "execution_count": 4,
   "metadata": {},
   "outputs": [],
   "source": [
    "dataloader = DataLoader('data/6d', 'data/6d')\n",
    "data = dataloader.get_data()\n",
    "model = KOHmodel.Model(*data)\n",
    "\n",
    "tmax = dataloader.t_max\n",
    "tmin = dataloader.t_min"
   ]
  },
  {
   "cell_type": "code",
   "execution_count": 5,
   "metadata": {},
   "outputs": [
    {
     "name": "stdout",
     "output_type": "stream",
     "text": [
      "(13100, 1)\n",
      "(12500, 6)\n",
      "(13100, 1)\n"
     ]
    }
   ],
   "source": [
    "for item in data:\n",
    "    print(item.shape)"
   ]
  },
  {
   "cell_type": "code",
   "execution_count": 9,
   "metadata": {},
   "outputs": [
    {
     "data": {
      "text/plain": [
       "array([0.        , 0.00862069, 0.03448276, 0.04310345, 0.06896552,\n",
       "       0.10344828, 0.12068966, 0.12931034, 0.15517241, 0.17241379,\n",
       "       0.19827586, 0.23275862, 0.24137931, 0.25862069, 0.28448276,\n",
       "       0.30172414, 0.31896552, 0.34482759, 0.37068966, 0.38793103,\n",
       "       0.4137931 , 0.43103448, 0.45689655, 0.49137931, 0.5       ,\n",
       "       0.53448276, 0.55172414, 0.57758621, 0.59482759, 0.61206897,\n",
       "       0.63793103, 0.6637931 , 0.68103448, 0.70689655, 0.71551724,\n",
       "       0.74137931, 0.76724138, 0.78448276, 0.80172414, 0.81034483,\n",
       "       0.84482759, 0.87068966, 0.88793103, 0.90517241, 0.93103448,\n",
       "       0.93965517, 0.95689655, 0.99137931, 1.        ])"
      ]
     },
     "execution_count": 9,
     "metadata": {},
     "output_type": "execute_result"
    }
   ],
   "source": [
    "np.unique(data[1][:,1])"
   ]
  }
 ],
 "metadata": {
  "kernelspec": {
   "display_name": "Python 3",
   "language": "python",
   "name": "python3"
  },
  "language_info": {
   "codemirror_mode": {
    "name": "ipython",
    "version": 3
   },
   "file_extension": ".py",
   "mimetype": "text/x-python",
   "name": "python",
   "nbconvert_exporter": "python",
   "pygments_lexer": "ipython3",
   "version": "3.11.10"
  }
 },
 "nbformat": 4,
 "nbformat_minor": 2
}
